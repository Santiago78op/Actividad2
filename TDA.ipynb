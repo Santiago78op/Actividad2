{
  "nbformat": 4,
  "nbformat_minor": 0,
  "metadata": {
    "colab": {
      "name": "TDA.ipynb",
      "provenance": [],
      "authorship_tag": "ABX9TyPMWtnSGXCq9mNxngAWOfhE",
      "include_colab_link": true
    },
    "kernelspec": {
      "name": "python3",
      "display_name": "Python 3"
    }
  },
  "cells": [
    {
      "cell_type": "markdown",
      "metadata": {
        "id": "view-in-github",
        "colab_type": "text"
      },
      "source": [
        "<a href=\"https://colab.research.google.com/github/Santiago78op/Actividad2/blob/Actividad2/TDA.ipynb\" target=\"_parent\"><img src=\"https://colab.research.google.com/assets/colab-badge.svg\" alt=\"Open In Colab\"/></a>"
      ]
    },
    {
      "cell_type": "markdown",
      "metadata": {
        "id": "k8f4aroOcrss"
      },
      "source": [
        "Pilas\r\n"
      ]
    },
    {
      "cell_type": "code",
      "metadata": {
        "id": "wNtS4VXuctZM"
      },
      "source": [
        "class Pila:\r\n",
        "  def __init__(self):\r\n",
        "    self.pila = []\r\n",
        "\r\n",
        "  def apilar(self, cliente):\r\n",
        "    self.pila.append(cliente)\r\n",
        "\r\n",
        "  def devolver_tamano(self): \r\n",
        "    return len(self.pila)\r\n",
        "\r\n",
        "  def imprimir(self):\r\n",
        "    for elemento in self.pila:\r\n",
        "      print(elemento.nombre, end = \" => \")\r\n",
        "    \r\n",
        "  def desapilar(self):\r\n",
        "    if self.pila:\r\n",
        "      self.pila.pop()\r\n",
        "\r\n"
      ],
      "execution_count": 1,
      "outputs": []
    },
    {
      "cell_type": "code",
      "metadata": {
        "id": "fRveCDAFdmeZ"
      },
      "source": [
        "c1 = cliente(\"Estuardo Zapeta\", 101)\r\n",
        "c2 = cliente(\"Marco López\", 103)\r\n",
        "c3 = cliente(\"Josue Armas\", 204)\r\n",
        "c4 = cliente(\"Gladys Olmos\", 302)\r\n"
      ],
      "execution_count": null,
      "outputs": []
    },
    {
      "cell_type": "code",
      "metadata": {
        "id": "6K35PfTOeMIP"
      },
      "source": [
        "p= Pila()\r\n",
        "p.apliar(c1)\r\n",
        "p.apliar(c2)\r\n",
        "p.apliar(c3)\r\n",
        "p.apliar(c4)"
      ],
      "execution_count": null,
      "outputs": []
    },
    {
      "cell_type": "code",
      "metadata": {
        "id": "0hpFi1G_fZgu"
      },
      "source": [
        "p.devolver_tamano()"
      ],
      "execution_count": null,
      "outputs": []
    },
    {
      "cell_type": "code",
      "metadata": {
        "id": "4ge0JpxffhMg"
      },
      "source": [
        "p.imprimir()"
      ],
      "execution_count": null,
      "outputs": []
    },
    {
      "cell_type": "code",
      "metadata": {
        "id": "VH5B1B0-gaBp"
      },
      "source": [
        "p.desapilar()"
      ],
      "execution_count": null,
      "outputs": []
    },
    {
      "cell_type": "code",
      "metadata": {
        "id": "-f4bo58QgeFk"
      },
      "source": [
        "p.imprimir()"
      ],
      "execution_count": null,
      "outputs": []
    },
    {
      "cell_type": "markdown",
      "metadata": {
        "id": "b0dQRvW8h9mW"
      },
      "source": [
        "**Colas**"
      ]
    },
    {
      "cell_type": "code",
      "metadata": {
        "id": "5s3DhpI6iAPP"
      },
      "source": [
        "class Cola:\r\n",
        "  def __init__(self):\r\n",
        "    self.cola = []\r\n",
        "\r\n",
        "  def encoalr(self, cliente):\r\n",
        "    self.cola.append(cliente)\r\n",
        "\r\n",
        "  def devolver_tamano(self):\r\n",
        "    return len(self.cola)\r\n",
        "\r\n",
        "  def imprimir(Self):\r\n",
        "    for elemento in self.cola:\r\n",
        "      print(elemento.nombre, end = \" <= \")\r\n",
        "\r\n",
        "  def desencolar(self):\r\n",
        "    if self.cola:\r\n",
        "      self.cola.pop(0)\r\n"
      ],
      "execution_count": null,
      "outputs": []
    },
    {
      "cell_type": "code",
      "metadata": {
        "id": "tyjKFZCvjAoZ"
      },
      "source": [
        "c1 = cliente(\"Estuardo Zapeta\", 101)\r\n",
        "c2 = cliente(\"Marco López\", 103)\r\n",
        "c3 = cliente(\"Josue Armas\", 204)\r\n",
        "c4 = cliente(\"Gladys Olmos\", 302)"
      ],
      "execution_count": null,
      "outputs": []
    },
    {
      "cell_type": "code",
      "metadata": {
        "id": "d61KMVFYjDC4"
      },
      "source": [
        "c= Cola()\r\n",
        "c.apliar(c1)\r\n",
        "c.apliar(c2)\r\n",
        "c.apliar(c3)\r\n",
        "c.apliar(c4)"
      ],
      "execution_count": null,
      "outputs": []
    },
    {
      "cell_type": "code",
      "metadata": {
        "id": "WqpMqcrgjMiN"
      },
      "source": [
        "c.devolver_tamano()"
      ],
      "execution_count": null,
      "outputs": []
    },
    {
      "cell_type": "code",
      "metadata": {
        "id": "KSPVCO7IjhPP"
      },
      "source": [
        "c.desencolar()"
      ],
      "execution_count": null,
      "outputs": []
    },
    {
      "cell_type": "code",
      "metadata": {
        "id": "A_t2fhZmkDm5"
      },
      "source": [
        "c.imprimir()"
      ],
      "execution_count": null,
      "outputs": []
    },
    {
      "cell_type": "markdown",
      "metadata": {
        "id": "poJ0wGrbc90D"
      },
      "source": [
        "**Ejercicio de Listas Enlazadas**\r\n",
        "\r\n",
        "**Ejemplo**\r\n"
      ]
    },
    {
      "cell_type": "code",
      "metadata": {
        "id": "XeXe_ouud0Dy"
      },
      "source": [
        "class cliente:\r\n",
        "  # : dos puntos es para abrir y cerrar llaves\r\n",
        "  def _init_(self):\r\n",
        "    self.nombre = nombre\r\n",
        "    self.no_habitacion = no_habotacion\r\n"
      ],
      "execution_count": null,
      "outputs": []
    }
  ]
}